{
 "cells": [
  {
   "cell_type": "code",
   "execution_count": 19,
   "metadata": {},
   "outputs": [],
   "source": [
    "# coding: utf-8\n",
    "import sys\n",
    "import unittest\n",
    "import requests\n",
    "import pandas as pd\n",
    "import numpy as np"
   ]
  },
  {
   "cell_type": "code",
   "execution_count": 20,
   "metadata": {},
   "outputs": [],
   "source": [
    "def get_mean(url, api_token):\n",
    "    headers = {'Authorization': 'token {}'.format(api_token)}\n",
    "    res = requests.get(url, headers=headers)\n",
    "    if res.status_code == 200:\n",
    "        data = pd.read_json(res.text)\n",
    "        if \"stargazers_count\" in data.columns:\n",
    "            return np.mean(data[\"stargazers_count\"])\n",
    "    return 0\n",
    "\n",
    "def get_mean_stars(df_users, api_token):\n",
    "    url_template = \"https://api.github.com/users/{}/repos?page={}&per_page=30\"\n",
    "    df_users[\"url\"] = df_users[\"User\"].apply(lambda x: url_template.format(x, 1))\n",
    "    df_users[\"Mean of Stars\"] = df_users[\"url\"].apply(lambda x: get_mean(x, api_token))\n",
    "    return df_users\n",
    "\n",
    "def put_users_to_df(url):\n",
    "    users_page = requests.get(url)\n",
    "    if users_page.status_code == 200:\n",
    "        document = pd.read_html(users_page.text)[0]\n",
    "        document[\"User\"] = document[\"User\"].str.split().str[0]\n",
    "        return document[[\"User\", \"Location\"]]\n",
    "\n",
    "    print(\"erreur code :\", users_page.status_codes)\n",
    "    exit(0)\n",
    "\n",
    "def main(access_token):\n",
    "    ## Call to unittest ##\n",
    "    #unittest.main()\n",
    "    ######################\n",
    "    url_git_repo = \"https://gist.github.com/paulmillr/2657075\"\n",
    "    df_users = put_users_to_df(url_git_repo)\n",
    "    df_users = get_mean_stars(df_users, access_token)\n",
    "    df_users = df_users[[\"User\", \"Location\", \"Mean of Stars\"]]\n",
    "    df_users = df_users.sort_values(by=[\"Mean of Stars\"], ascending=False)\n",
    "    df_users = df_users.reset_index(drop=True)\n",
    "    df_users.to_csv(\"data_git_top_contributor.csv\", sep=\";\")\n",
    "\n",
    "if __name__ == '__main__':\n",
    "    main(sys.argv[1])"
   ]
  },
  {
   "cell_type": "code",
   "execution_count": null,
   "metadata": {},
   "outputs": [],
   "source": []
  }
 ],
 "metadata": {
  "kernelspec": {
   "display_name": "Python 3",
   "language": "python",
   "name": "python3"
  },
  "language_info": {
   "codemirror_mode": {
    "name": "ipython",
    "version": 3
   },
   "file_extension": ".py",
   "mimetype": "text/x-python",
   "name": "python",
   "nbconvert_exporter": "python",
   "pygments_lexer": "ipython3",
   "version": "3.6.5"
  }
 },
 "nbformat": 4,
 "nbformat_minor": 2
}
