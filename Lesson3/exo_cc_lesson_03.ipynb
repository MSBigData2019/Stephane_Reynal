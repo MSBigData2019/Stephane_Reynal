{
 "cells": [
  {
   "cell_type": "code",
   "execution_count": 1,
   "metadata": {},
   "outputs": [],
   "source": [
    "# coding: utf-8\n",
    "import re\n",
    "import json\n",
    "import requests\n",
    "import pandas as pd"
   ]
  },
  {
   "cell_type": "code",
   "execution_count": 3,
   "metadata": {},
   "outputs": [
    {
     "ename": "FileNotFoundError",
     "evalue": "[Errno 2] No such file or directory: 'api_keys.txt'",
     "output_type": "error",
     "traceback": [
      "\u001b[0;31m---------------------------------------------------------------------------\u001b[0m",
      "\u001b[0;31mFileNotFoundError\u001b[0m                         Traceback (most recent call last)",
      "\u001b[0;32m<ipython-input-3-0e2e12984f7b>\u001b[0m in \u001b[0;36m<module>\u001b[0;34m()\u001b[0m\n\u001b[1;32m     64\u001b[0m \u001b[0;34m\u001b[0m\u001b[0m\n\u001b[1;32m     65\u001b[0m \u001b[0;32mif\u001b[0m \u001b[0m__name__\u001b[0m \u001b[0;34m==\u001b[0m \u001b[0;34m'__main__'\u001b[0m\u001b[0;34m:\u001b[0m\u001b[0;34m\u001b[0m\u001b[0m\n\u001b[0;32m---> 66\u001b[0;31m     \u001b[0mmain\u001b[0m\u001b[0;34m(\u001b[0m\u001b[0;34m)\u001b[0m\u001b[0;34m\u001b[0m\u001b[0m\n\u001b[0m",
      "\u001b[0;32m<ipython-input-3-0e2e12984f7b>\u001b[0m in \u001b[0;36mmain\u001b[0;34m()\u001b[0m\n\u001b[1;32m     60\u001b[0m     \u001b[0mdf_villes_clean\u001b[0m \u001b[0;34m=\u001b[0m \u001b[0mclean_data\u001b[0m\u001b[0;34m(\u001b[0m\u001b[0mdf_villes\u001b[0m\u001b[0;34m)\u001b[0m\u001b[0;34m\u001b[0m\u001b[0m\n\u001b[1;32m     61\u001b[0m     \u001b[0mdf_sorted\u001b[0m \u001b[0;34m=\u001b[0m \u001b[0msort_top_x_according_year\u001b[0m\u001b[0;34m(\u001b[0m\u001b[0mdf_villes_clean\u001b[0m\u001b[0;34m,\u001b[0m \u001b[0;36m10\u001b[0m\u001b[0;34m,\u001b[0m \u001b[0;34m'2015'\u001b[0m\u001b[0;34m)\u001b[0m\u001b[0;34m\u001b[0m\u001b[0m\n\u001b[0;32m---> 62\u001b[0;31m     \u001b[0mresponse\u001b[0m \u001b[0;34m=\u001b[0m \u001b[0mget_distances\u001b[0m\u001b[0;34m(\u001b[0m\u001b[0mdf_sorted\u001b[0m\u001b[0;34m)\u001b[0m\u001b[0;34m\u001b[0m\u001b[0m\n\u001b[0m\u001b[1;32m     63\u001b[0m     \u001b[0mprint\u001b[0m\u001b[0;34m(\u001b[0m\u001b[0mresponse\u001b[0m\u001b[0;34m)\u001b[0m\u001b[0;34m\u001b[0m\u001b[0m\n\u001b[1;32m     64\u001b[0m \u001b[0;34m\u001b[0m\u001b[0m\n",
      "\u001b[0;32m<ipython-input-3-0e2e12984f7b>\u001b[0m in \u001b[0;36mget_distances\u001b[0;34m(df)\u001b[0m\n\u001b[1;32m     51\u001b[0m \u001b[0;32mdef\u001b[0m \u001b[0mget_distances\u001b[0m\u001b[0;34m(\u001b[0m\u001b[0mdf\u001b[0m\u001b[0;34m)\u001b[0m\u001b[0;34m:\u001b[0m\u001b[0;34m\u001b[0m\u001b[0m\n\u001b[1;32m     52\u001b[0m     \u001b[0mcommunes\u001b[0m \u001b[0;34m=\u001b[0m \u001b[0;34m'|'\u001b[0m\u001b[0;34m.\u001b[0m\u001b[0mjoin\u001b[0m\u001b[0;34m(\u001b[0m\u001b[0mdf\u001b[0m\u001b[0;34m[\u001b[0m\u001b[0;34m'Commune'\u001b[0m\u001b[0;34m]\u001b[0m\u001b[0;34m)\u001b[0m\u001b[0;34m\u001b[0m\u001b[0m\n\u001b[0;32m---> 53\u001b[0;31m     \u001b[0mres\u001b[0m \u001b[0;34m=\u001b[0m \u001b[0m_call_google_api\u001b[0m\u001b[0;34m(\u001b[0m\u001b[0mcommunes\u001b[0m\u001b[0;34m)\u001b[0m\u001b[0;34m\u001b[0m\u001b[0m\n\u001b[0m\u001b[1;32m     54\u001b[0m     \u001b[0;32mreturn\u001b[0m \u001b[0m_parse_result_of_api\u001b[0m\u001b[0;34m(\u001b[0m\u001b[0mres\u001b[0m\u001b[0;34m)\u001b[0m\u001b[0;34m\u001b[0m\u001b[0m\n\u001b[1;32m     55\u001b[0m \u001b[0;34m\u001b[0m\u001b[0m\n",
      "\u001b[0;32m<ipython-input-3-0e2e12984f7b>\u001b[0m in \u001b[0;36m_call_google_api\u001b[0;34m(communes)\u001b[0m\n\u001b[1;32m     38\u001b[0m \u001b[0;32mdef\u001b[0m \u001b[0m_call_google_api\u001b[0m\u001b[0;34m(\u001b[0m\u001b[0mcommunes\u001b[0m\u001b[0;34m)\u001b[0m\u001b[0;34m:\u001b[0m\u001b[0;34m\u001b[0m\u001b[0m\n\u001b[1;32m     39\u001b[0m     \u001b[0mapi_url\u001b[0m \u001b[0;34m=\u001b[0m \u001b[0;34m'https://maps.googleapis.com/maps/api/distancematrix/json?units=metrics'\u001b[0m\u001b[0;34m\u001b[0m\u001b[0m\n\u001b[0;32m---> 40\u001b[0;31m     \u001b[0mkey\u001b[0m \u001b[0;34m=\u001b[0m \u001b[0m_get_api_key\u001b[0m\u001b[0;34m(\u001b[0m\u001b[0;34m)\u001b[0m\u001b[0;34m\u001b[0m\u001b[0m\n\u001b[0m\u001b[1;32m     41\u001b[0m     \u001b[0mapi_call\u001b[0m \u001b[0;34m=\u001b[0m \u001b[0;34mf'{api_url}&origins={communes}&destinations={communes}&key={key}'\u001b[0m\u001b[0;34m\u001b[0m\u001b[0m\n\u001b[1;32m     42\u001b[0m     \u001b[0;32mreturn\u001b[0m \u001b[0mrequests\u001b[0m\u001b[0;34m.\u001b[0m\u001b[0mget\u001b[0m\u001b[0;34m(\u001b[0m\u001b[0mapi_call\u001b[0m\u001b[0;34m)\u001b[0m\u001b[0;34m\u001b[0m\u001b[0m\n",
      "\u001b[0;32m<ipython-input-3-0e2e12984f7b>\u001b[0m in \u001b[0;36m_get_api_key\u001b[0;34m()\u001b[0m\n\u001b[1;32m     33\u001b[0m \u001b[0;34m\u001b[0m\u001b[0m\n\u001b[1;32m     34\u001b[0m \u001b[0;32mdef\u001b[0m \u001b[0m_get_api_key\u001b[0m\u001b[0;34m(\u001b[0m\u001b[0;34m)\u001b[0m\u001b[0;34m:\u001b[0m\u001b[0;34m\u001b[0m\u001b[0m\n\u001b[0;32m---> 35\u001b[0;31m     \u001b[0mkey\u001b[0m \u001b[0;34m=\u001b[0m \u001b[0mopen\u001b[0m\u001b[0;34m(\u001b[0m\u001b[0;34m'api_keys.txt'\u001b[0m\u001b[0;34m,\u001b[0m \u001b[0;34m'r'\u001b[0m\u001b[0;34m)\u001b[0m\u001b[0;34m\u001b[0m\u001b[0m\n\u001b[0m\u001b[1;32m     36\u001b[0m     \u001b[0;32mreturn\u001b[0m \u001b[0mkey\u001b[0m\u001b[0;34m.\u001b[0m\u001b[0mread\u001b[0m\u001b[0;34m(\u001b[0m\u001b[0;34m)\u001b[0m\u001b[0;34m.\u001b[0m\u001b[0msplit\u001b[0m\u001b[0;34m(\u001b[0m\u001b[0;34m'\\n'\u001b[0m\u001b[0;34m)\u001b[0m\u001b[0;34m[\u001b[0m\u001b[0;36m1\u001b[0m\u001b[0;34m]\u001b[0m\u001b[0;34m\u001b[0m\u001b[0m\n\u001b[1;32m     37\u001b[0m \u001b[0;34m\u001b[0m\u001b[0m\n",
      "\u001b[0;31mFileNotFoundError\u001b[0m: [Errno 2] No such file or directory: 'api_keys.txt'"
     ]
    }
   ],
   "source": [
    "def load_data_villes(url):\n",
    "    return pd.read_html(url, encoding='utf-8')[0]\n",
    "\n",
    "def _clean_columns_commune_and_dept(df):\n",
    "    df['Commune'] = df['Commune'].apply(lambda x: str(x).split('[')[0])\n",
    "    df['Département'] = df['Département'].apply(lambda x: str(x).split('[')[0])\n",
    "    return df\n",
    "\n",
    "\n",
    "def _clean_and_parse_columns_population_by_years(df):\n",
    "    rep = re.compile(r'\\D*(\\d+)\\D*(\\d+)\\D*(\\d*),.*')\n",
    "    df = df.applymap(lambda x: re.sub(rep, r'\\1\\2\\3', str(x)))\n",
    "    df['2015'] = df['2015'].astype('int64')\n",
    "    df['2011'] = df['2011'].astype('int64')\n",
    "    return df\n",
    "\n",
    "def _patch_problem_of_columns_names(df):\n",
    "    df.columns = df.iloc[0].copy(False)\n",
    "    df = df.reindex(df.index.drop(0))\n",
    "    df.columns = df.columns.str.split('[').str[0].values\n",
    "    return df\n",
    "\n",
    "def clean_data(df):\n",
    "    df = _patch_problem_of_columns_names(df)\n",
    "    df = _clean_columns_commune_and_dept(df)\n",
    "    df_clean = _clean_and_parse_columns_population_by_years(df)\n",
    "    df_clean = df_clean[['Commune', 'Département', 'Région', '2015', '2011']]\n",
    "    return df_clean\n",
    "\n",
    "def sort_top_x_according_year(df, top, year):\n",
    "    table_top_x = df.sort_values(by=[year], ascending=False)[0:top]\n",
    "    return table_top_x\n",
    "\n",
    "def _get_api_key():\n",
    "    key = open('api_keys.txt', 'r')\n",
    "    return key.read().split('\\n')[1]\n",
    "\n",
    "def _call_google_api(communes):\n",
    "    api_url = 'https://maps.googleapis.com/maps/api/distancematrix/json?units=metrics'\n",
    "    key = _get_api_key()\n",
    "    api_call = f'{api_url}&origins={communes}&destinations={communes}&key={key}'\n",
    "    return requests.get(api_call)\n",
    "\n",
    "def _parse_result_of_api(res):\n",
    "    json_res = json.loads(res.content)\n",
    "    if json_res['status'] == 'REQUEST_DENIED':\n",
    "        return json_res['error_message']\n",
    "    return list(map(lambda x: list(map(lambda y: y['distance']['text'],\n",
    "                                       x['elements'])), json_res['rows']))\n",
    "\n",
    "def get_distances(df):\n",
    "    communes = '|'.join(df['Commune'])\n",
    "    res = _call_google_api(communes)\n",
    "    return _parse_result_of_api(res)\n",
    "\n",
    "\n",
    "def main():\n",
    "    url_wiki = \"https://fr.wikipedia.org/wiki/Liste_des_communes_de_France_les_plus_peupl%C3%A9es\"\n",
    "    df_villes = load_data_villes(url_wiki)\n",
    "    df_villes_clean = clean_data(df_villes)\n",
    "    df_sorted = sort_top_x_according_year(df_villes_clean, 10, '2015')\n",
    "    response = get_distances(df_sorted)\n",
    "    print(response)\n",
    "\n",
    "if __name__ == '__main__':\n",
    "    main()"
   ]
  },
  {
   "cell_type": "code",
   "execution_count": null,
   "metadata": {},
   "outputs": [],
   "source": []
  }
 ],
 "metadata": {
  "kernelspec": {
   "display_name": "Python 3",
   "language": "python",
   "name": "python3"
  },
  "language_info": {
   "codemirror_mode": {
    "name": "ipython",
    "version": 3
   },
   "file_extension": ".py",
   "mimetype": "text/x-python",
   "name": "python",
   "nbconvert_exporter": "python",
   "pygments_lexer": "ipython3",
   "version": "3.6.5"
  }
 },
 "nbformat": 4,
 "nbformat_minor": 2
}
